{
 "cells": [
  {
   "cell_type": "code",
   "execution_count": 3,
   "metadata": {},
   "outputs": [],
   "source": [
    "from pathlib import Path\n",
    "\n",
    "from chatbot.chatbot import EmbeddingModel\n",
    "from common.utils import get_root_dir\n",
    "\n",
    "# Load all text files from the data folders\n",
    "data = {}\n",
    "root_dir = get_root_dir()\n",
    "em = EmbeddingModel()\n",
    "\n",
    "for file in Path(root_dir / \"data\").rglob(\"*.txt\"):\n",
    "    with open(file, \"r\", encoding=\"utf-8\") as f:\n",
    "        data[file.stem] = f.read()\n",
    "\n",
    "\n",
    "# Write a function that given a text, returns the embedding of that text\n",
    "def get_embeddings(text: str) -> dict[str, list[float]]:\n",
    "    chunks = em.split_text_to_chunks(text, 1000)\n",
    "    return {chunk: em.get_embedding(chunk) for chunk in chunks}\n",
    "\n",
    "\n",
    "first_file: dict[str, dict[str, list[list[float]]]] = {\n",
    "    \"The French Revolution A History\": get_embeddings(data[\"The French Revolution A History\"])\n",
    "}\n",
    "second_file: dict[str, dict[list[list[float]]]] = {\n",
    "    \"The world's leading conquerors\": get_embeddings(data[\"The world's leading conquerors\"])\n",
    "}"
   ]
  },
  {
   "cell_type": "code",
   "execution_count": 4,
   "metadata": {},
   "outputs": [],
   "source": [
    "import json\n",
    "\n",
    "import psycopg2\n",
    "\n",
    "conn = psycopg2.connect(\n",
    "    dbname=\"postgres\", user=\"postgres\", password=\"postgres\", host=\"localhost\", port=\"5432\"\n",
    ")\n",
    "cur = conn.cursor()\n",
    "\n",
    "# Insert the embeddings into the database\n",
    "for document_id, embeddings in second_file.items():\n",
    "    id_ = 0\n",
    "    for text, embedding in embeddings.items():\n",
    "        cur.execute(\n",
    "            \"INSERT INTO knowledge_base (document_id, embedding, additional_information, text) VALUES (%s, %s, %s, %s)\",\n",
    "            (f\"{document_id}_{id_}\", embedding, json.dumps({\"document_id\": document_id}), text),\n",
    "        )\n",
    "        id_ += 1\n",
    "\n",
    "for document_id, embeddings in first_file.items():\n",
    "    id_ = 0\n",
    "    for text, embedding in embeddings.items():\n",
    "        cur.execute(\n",
    "            \"INSERT INTO knowledge_base (document_id, embedding, additional_information, text) VALUES (%s, %s, %s, %s)\",\n",
    "            (f\"{document_id}_{id_}\", embedding, json.dumps({\"document_id\": document_id}), text),\n",
    "        )\n",
    "        id_ += 1\n",
    "\n",
    "conn.commit()\n",
    "cur.close()"
   ]
  },
  {
   "cell_type": "code",
   "execution_count": null,
   "metadata": {},
   "outputs": [],
   "source": []
  }
 ],
 "metadata": {
  "kernelspec": {
   "display_name": "Python 3 (ipykernel)",
   "language": "python",
   "name": "python3"
  },
  "language_info": {
   "codemirror_mode": {
    "name": "ipython",
    "version": 3
   },
   "file_extension": ".py",
   "mimetype": "text/x-python",
   "name": "python",
   "nbconvert_exporter": "python",
   "pygments_lexer": "ipython3",
   "version": "3.11.0"
  }
 },
 "nbformat": 4,
 "nbformat_minor": 4
}
